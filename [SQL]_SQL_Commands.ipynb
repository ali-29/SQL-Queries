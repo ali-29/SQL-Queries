{
  "nbformat": 4,
  "nbformat_minor": 0,
  "metadata": {
    "colab": {
      "provenance": [],
      "authorship_tag": "ABX9TyMunb+b2UgnCqLt0gIKlaOW"
    },
    "kernelspec": {
      "name": "python3",
      "display_name": "Python 3"
    },
    "language_info": {
      "name": "python"
    }
  },
  "cells": [
    {
      "cell_type": "markdown",
      "source": [
        "#Install package"
      ],
      "metadata": {
        "id": "Zrz5HtdnTrEl"
      }
    },
    {
      "cell_type": "code",
      "execution_count": 2,
      "metadata": {
        "colab": {
          "base_uri": "https://localhost:8080/"
        },
        "collapsed": true,
        "id": "NvfZVy5BTZQq",
        "outputId": "802b41d2-9668-452d-8d3e-459e732999aa"
      },
      "outputs": [
        {
          "output_type": "stream",
          "name": "stdout",
          "text": [
            "Requirement already satisfied: sqlalchemy in /usr/local/lib/python3.10/dist-packages (2.0.31)\n",
            "Requirement already satisfied: typing-extensions>=4.6.0 in /usr/local/lib/python3.10/dist-packages (from sqlalchemy) (4.12.2)\n",
            "Requirement already satisfied: greenlet!=0.4.17 in /usr/local/lib/python3.10/dist-packages (from sqlalchemy) (3.0.3)\n",
            "Requirement already satisfied: ipython-sql in /usr/local/lib/python3.10/dist-packages (0.5.0)\n",
            "Requirement already satisfied: prettytable in /usr/local/lib/python3.10/dist-packages (from ipython-sql) (3.10.0)\n",
            "Requirement already satisfied: ipython in /usr/local/lib/python3.10/dist-packages (from ipython-sql) (7.34.0)\n",
            "Requirement already satisfied: sqlalchemy>=2.0 in /usr/local/lib/python3.10/dist-packages (from ipython-sql) (2.0.31)\n",
            "Requirement already satisfied: sqlparse in /usr/local/lib/python3.10/dist-packages (from ipython-sql) (0.5.0)\n",
            "Requirement already satisfied: six in /usr/local/lib/python3.10/dist-packages (from ipython-sql) (1.16.0)\n",
            "Requirement already satisfied: ipython-genutils in /usr/local/lib/python3.10/dist-packages (from ipython-sql) (0.2.0)\n",
            "Requirement already satisfied: typing-extensions>=4.6.0 in /usr/local/lib/python3.10/dist-packages (from sqlalchemy>=2.0->ipython-sql) (4.12.2)\n",
            "Requirement already satisfied: greenlet!=0.4.17 in /usr/local/lib/python3.10/dist-packages (from sqlalchemy>=2.0->ipython-sql) (3.0.3)\n",
            "Requirement already satisfied: setuptools>=18.5 in /usr/local/lib/python3.10/dist-packages (from ipython->ipython-sql) (67.7.2)\n",
            "Collecting jedi>=0.16 (from ipython->ipython-sql)\n",
            "  Downloading jedi-0.19.1-py2.py3-none-any.whl (1.6 MB)\n",
            "\u001b[2K     \u001b[90m━━━━━━━━━━━━━━━━━━━━━━━━━━━━━━━━━━━━━━━━\u001b[0m \u001b[32m1.6/1.6 MB\u001b[0m \u001b[31m15.2 MB/s\u001b[0m eta \u001b[36m0:00:00\u001b[0m\n",
            "\u001b[?25hRequirement already satisfied: decorator in /usr/local/lib/python3.10/dist-packages (from ipython->ipython-sql) (4.4.2)\n",
            "Requirement already satisfied: pickleshare in /usr/local/lib/python3.10/dist-packages (from ipython->ipython-sql) (0.7.5)\n",
            "Requirement already satisfied: traitlets>=4.2 in /usr/local/lib/python3.10/dist-packages (from ipython->ipython-sql) (5.7.1)\n",
            "Requirement already satisfied: prompt-toolkit!=3.0.0,!=3.0.1,<3.1.0,>=2.0.0 in /usr/local/lib/python3.10/dist-packages (from ipython->ipython-sql) (3.0.47)\n",
            "Requirement already satisfied: pygments in /usr/local/lib/python3.10/dist-packages (from ipython->ipython-sql) (2.16.1)\n",
            "Requirement already satisfied: backcall in /usr/local/lib/python3.10/dist-packages (from ipython->ipython-sql) (0.2.0)\n",
            "Requirement already satisfied: matplotlib-inline in /usr/local/lib/python3.10/dist-packages (from ipython->ipython-sql) (0.1.7)\n",
            "Requirement already satisfied: pexpect>4.3 in /usr/local/lib/python3.10/dist-packages (from ipython->ipython-sql) (4.9.0)\n",
            "Requirement already satisfied: wcwidth in /usr/local/lib/python3.10/dist-packages (from prettytable->ipython-sql) (0.2.13)\n",
            "Requirement already satisfied: parso<0.9.0,>=0.8.3 in /usr/local/lib/python3.10/dist-packages (from jedi>=0.16->ipython->ipython-sql) (0.8.4)\n",
            "Requirement already satisfied: ptyprocess>=0.5 in /usr/local/lib/python3.10/dist-packages (from pexpect>4.3->ipython->ipython-sql) (0.7.0)\n",
            "Installing collected packages: jedi\n",
            "Successfully installed jedi-0.19.1\n"
          ]
        }
      ],
      "source": [
        "!pip install sqlalchemy\n",
        "!pip install ipython-sql\n",
        "%load_ext sql"
      ]
    },
    {
      "cell_type": "markdown",
      "source": [
        "#Mounting google drive"
      ],
      "metadata": {
        "id": "UGV9qYY-fQbB"
      }
    },
    {
      "cell_type": "code",
      "source": [
        "from google.colab import drive\n",
        "drive.mount('/content/drive')"
      ],
      "metadata": {
        "colab": {
          "base_uri": "https://localhost:8080/"
        },
        "id": "iFW04e-NUWFJ",
        "outputId": "edd53942-151c-4d97-c93f-e298bdf23df2"
      },
      "execution_count": 2,
      "outputs": [
        {
          "output_type": "stream",
          "name": "stdout",
          "text": [
            "Mounted at /content/drive\n"
          ]
        }
      ]
    },
    {
      "cell_type": "markdown",
      "source": [
        "#Connect to database"
      ],
      "metadata": {
        "id": "mlSH6DK4WF7o"
      }
    },
    {
      "cell_type": "code",
      "source": [
        "%sql sqlite:////content/drive/MyDrive/db/chinook.db"
      ],
      "metadata": {
        "id": "oKurX5U4VSuI"
      },
      "execution_count": 5,
      "outputs": []
    },
    {
      "cell_type": "markdown",
      "source": [
        "#Database Scheme"
      ],
      "metadata": {
        "id": "ccNEYbM8YkLY"
      }
    },
    {
      "cell_type": "code",
      "source": [
        "import cv2\n",
        "from matplotlib import pyplot as plt\n",
        "image_path = '/content/drive/MyDrive/Personal Project/[SQL] SQL Commands - Chinook Database/Chinook Database Scheme.png'\n",
        "image = cv2.imread(image_path)\n",
        "plt.imshow(image)\n",
        "plt.axis(\"off\")\n",
        "plt.show()"
      ],
      "metadata": {
        "colab": {
          "base_uri": "https://localhost:8080/",
          "height": 406
        },
        "id": "TTvyFkjuXKgT",
        "outputId": "565b082c-1cfe-4912-863b-7e3d8dd2b484"
      },
      "execution_count": 8,
      "outputs": [
        {
          "output_type": "display_data",
          "data": {
            "text/plain": [
              "<Figure size 640x480 with 1 Axes>"
            ],
            "image/png": "[encoded data removed]"
          },
          "metadata": {}
        }
      ]
    },
    {
      "cell_type": "markdown",
      "source": [
        "#Preview all table name except sqlite default table"
      ],
      "metadata": {
        "id": "KKHhPBm7WLPV"
      }
    },
    {
      "cell_type": "code",
      "source": [
        "%%sql\n",
        "SELECT NAME FROM SQLITE_MASTER WHERE TYPE='table' AND NAME NOT LIKE 'SQLITE_%'"
      ],
      "metadata": {
        "colab": {
          "base_uri": "https://localhost:8080/",
          "height": 310
        },
        "id": "dMpvwMFbVqla",
        "outputId": "5380a366-4b91-496d-b80c-2c0b4229dfb9"
      },
      "execution_count": 12,
      "outputs": [
        {
          "output_type": "stream",
          "name": "stdout",
          "text": [
            " * sqlite:////content/drive/MyDrive/db/chinook.db\n",
            "Done.\n"
          ]
        },
        {
          "output_type": "execute_result",
          "data": {
            "text/plain": [
              "[('albums',),\n",
              " ('artists',),\n",
              " ('customers',),\n",
              " ('employees',),\n",
              " ('genres',),\n",
              " ('invoices',),\n",
              " ('invoice_items',),\n",
              " ('media_types',),\n",
              " ('playlists',),\n",
              " ('playlist_track',),\n",
              " ('tracks',)]"
            ],
            "text/html": [
              "<table>\n",
              "    <thead>\n",
              "        <tr>\n",
              "            <th>name</th>\n",
              "        </tr>\n",
              "    </thead>\n",
              "    <tbody>\n",
              "        <tr>\n",
              "            <td>albums</td>\n",
              "        </tr>\n",
              "        <tr>\n",
              "            <td>artists</td>\n",
              "        </tr>\n",
              "        <tr>\n",
              "            <td>customers</td>\n",
              "        </tr>\n",
              "        <tr>\n",
              "            <td>employees</td>\n",
              "        </tr>\n",
              "        <tr>\n",
              "            <td>genres</td>\n",
              "        </tr>\n",
              "        <tr>\n",
              "            <td>invoices</td>\n",
              "        </tr>\n",
              "        <tr>\n",
              "            <td>invoice_items</td>\n",
              "        </tr>\n",
              "        <tr>\n",
              "            <td>media_types</td>\n",
              "        </tr>\n",
              "        <tr>\n",
              "            <td>playlists</td>\n",
              "        </tr>\n",
              "        <tr>\n",
              "            <td>playlist_track</td>\n",
              "        </tr>\n",
              "        <tr>\n",
              "            <td>tracks</td>\n",
              "        </tr>\n",
              "    </tbody>\n",
              "</table>"
            ]
          },
          "metadata": {},
          "execution_count": 12
        }
      ]
    },
    {
      "cell_type": "markdown",
      "source": [
        "#Queries"
      ],
      "metadata": {
        "id": "pDWLk8sYfjhQ"
      }
    },
    {
      "cell_type": "markdown",
      "source": [
        "##Which countries have the most Invoices?\n",
        "\n",
        "(SELECT, COUNT, GROUP BY, ORDER BY)"
      ],
      "metadata": {
        "id": "PsLfqqRZevDK"
      }
    },
    {
      "cell_type": "code",
      "source": [
        "%%sql\n",
        "SELECT BILLINGCOUNTRY,\n",
        "  COUNT(INVOICEID)\n",
        "FROM INVOICES\n",
        "GROUP BY 1\n",
        "ORDER BY 2 DESC"
      ],
      "metadata": {
        "colab": {
          "base_uri": "https://localhost:8080/",
          "height": 588
        },
        "id": "obMtqK4CYpfn",
        "outputId": "abe826ef-9c58-480c-c9f7-ee848d3e2cde"
      },
      "execution_count": 14,
      "outputs": [
        {
          "output_type": "stream",
          "name": "stdout",
          "text": [
            " * sqlite:////content/drive/MyDrive/db/chinook.db\n",
            "Done.\n"
          ]
        },
        {
          "output_type": "execute_result",
          "data": {
            "text/plain": [
              "[('USA', 91),\n",
              " ('Canada', 56),\n",
              " ('France', 35),\n",
              " ('Brazil', 35),\n",
              " ('Germany', 28),\n",
              " ('United Kingdom', 21),\n",
              " ('Portugal', 14),\n",
              " ('Czech Republic', 14),\n",
              " ('India', 13),\n",
              " ('Sweden', 7),\n",
              " ('Spain', 7),\n",
              " ('Poland', 7),\n",
              " ('Norway', 7),\n",
              " ('Netherlands', 7),\n",
              " ('Italy', 7),\n",
              " ('Ireland', 7),\n",
              " ('Hungary', 7),\n",
              " ('Finland', 7),\n",
              " ('Denmark', 7),\n",
              " ('Chile', 7),\n",
              " ('Belgium', 7),\n",
              " ('Austria', 7),\n",
              " ('Australia', 7),\n",
              " ('Argentina', 7)]"
            ],
            "text/html": [
              "<table>\n",
              "    <thead>\n",
              "        <tr>\n",
              "            <th>BillingCountry</th>\n",
              "            <th>COUNT(INVOICEID)</th>\n",
              "        </tr>\n",
              "    </thead>\n",
              "    <tbody>\n",
              "        <tr>\n",
              "            <td>USA</td>\n",
              "            <td>91</td>\n",
              "        </tr>\n",
              "        <tr>\n",
              "            <td>Canada</td>\n",
              "            <td>56</td>\n",
              "        </tr>\n",
              "        <tr>\n",
              "            <td>France</td>\n",
              "            <td>35</td>\n",
              "        </tr>\n",
              "        <tr>\n",
              "            <td>Brazil</td>\n",
              "            <td>35</td>\n",
              "        </tr>\n",
              "        <tr>\n",
              "            <td>Germany</td>\n",
              "            <td>28</td>\n",
              "        </tr>\n",
              "        <tr>\n",
              "            <td>United Kingdom</td>\n",
              "            <td>21</td>\n",
              "        </tr>\n",
              "        <tr>\n",
              "            <td>Portugal</td>\n",
              "            <td>14</td>\n",
              "        </tr>\n",
              "        <tr>\n",
              "            <td>Czech Republic</td>\n",
              "            <td>14</td>\n",
              "        </tr>\n",
              "        <tr>\n",
              "            <td>India</td>\n",
              "            <td>13</td>\n",
              "        </tr>\n",
              "        <tr>\n",
              "            <td>Sweden</td>\n",
              "            <td>7</td>\n",
              "        </tr>\n",
              "        <tr>\n",
              "            <td>Spain</td>\n",
              "            <td>7</td>\n",
              "        </tr>\n",
              "        <tr>\n",
              "            <td>Poland</td>\n",
              "            <td>7</td>\n",
              "        </tr>\n",
              "        <tr>\n",
              "            <td>Norway</td>\n",
              "            <td>7</td>\n",
              "        </tr>\n",
              "        <tr>\n",
              "            <td>Netherlands</td>\n",
              "            <td>7</td>\n",
              "        </tr>\n",
              "        <tr>\n",
              "            <td>Italy</td>\n",
              "            <td>7</td>\n",
              "        </tr>\n",
              "        <tr>\n",
              "            <td>Ireland</td>\n",
              "            <td>7</td>\n",
              "        </tr>\n",
              "        <tr>\n",
              "            <td>Hungary</td>\n",
              "            <td>7</td>\n",
              "        </tr>\n",
              "        <tr>\n",
              "            <td>Finland</td>\n",
              "            <td>7</td>\n",
              "        </tr>\n",
              "        <tr>\n",
              "            <td>Denmark</td>\n",
              "            <td>7</td>\n",
              "        </tr>\n",
              "        <tr>\n",
              "            <td>Chile</td>\n",
              "            <td>7</td>\n",
              "        </tr>\n",
              "        <tr>\n",
              "            <td>Belgium</td>\n",
              "            <td>7</td>\n",
              "        </tr>\n",
              "        <tr>\n",
              "            <td>Austria</td>\n",
              "            <td>7</td>\n",
              "        </tr>\n",
              "        <tr>\n",
              "            <td>Australia</td>\n",
              "            <td>7</td>\n",
              "        </tr>\n",
              "        <tr>\n",
              "            <td>Argentina</td>\n",
              "            <td>7</td>\n",
              "        </tr>\n",
              "    </tbody>\n",
              "</table>"
            ]
          },
          "metadata": {},
          "execution_count": 14
        }
      ]
    },
    {
      "cell_type": "markdown",
      "source": [
        "## Create table, insert values, delete values & delete table\n",
        "\n"
      ],
      "metadata": {
        "id": "Y4ncoxdfnvOx"
      }
    },
    {
      "cell_type": "code",
      "source": [
        "%%sql\n",
        "-- create artists backup table\n",
        "CREATE TABLE ARTISTS_BACKUP(\n",
        "   ARTISTID INTEGER PRIMARY KEY AUTOINCREMENT,\n",
        "   NAME NVARCHAR\n",
        ");\n",
        "\n",
        "-- populate data from the artists table\n",
        "INSERT INTO ARTISTS_BACKUP\n",
        "SELECT ARTISTID,NAME\n",
        "FROM ARTISTS;\n",
        "\n",
        "-- delete item by ID\n",
        "DELETE FROM artists_backup\n",
        "WHERE artistid = 1;\n",
        "\n",
        "-- delete item by value\n",
        "DELETE FROM artists_backup\n",
        "WHERE name LIKE '%Santana%';\n",
        "\n",
        "-- delete table\n",
        "DELETE FROM artists_backup;"
      ],
      "metadata": {
        "colab": {
          "base_uri": "https://localhost:8080/"
        },
        "id": "ebVl3CxrnuYU",
        "outputId": "92568c0d-1b68-411d-f56e-0a6edace3b0c"
      },
      "execution_count": 33,
      "outputs": [
        {
          "output_type": "stream",
          "name": "stdout",
          "text": [
            " * sqlite:////content/drive/MyDrive/db/chinook.db\n",
            "Done.\n",
            "278 rows affected.\n",
            "Done.\n",
            "1 rows affected.\n",
            "9 rows affected.\n",
            "268 rows affected.\n"
          ]
        },
        {
          "output_type": "execute_result",
          "data": {
            "text/plain": [
              "[]"
            ]
          },
          "metadata": {},
          "execution_count": 33
        }
      ]
    },
    {
      "cell_type": "code",
      "source": [
        "## Check the results\n",
        "%%sql\n",
        "SELECT ARTISTID, NAME\n",
        "FROM ARTISTS\n",
        "ORDER BY ARTISTID DESC\n",
        "LIMIT 3;"
      ],
      "metadata": {
        "colab": {
          "base_uri": "https://localhost:8080/",
          "height": 139
        },
        "id": "JwaT8yNaoFzh",
        "outputId": "5c4c5b36-8a86-4fb2-bd87-4aaed1be46bf"
      },
      "execution_count": 32,
      "outputs": [
        {
          "output_type": "stream",
          "name": "stdout",
          "text": [
            " * sqlite:////content/drive/MyDrive/db/chinook.db\n",
            "Done.\n"
          ]
        },
        {
          "output_type": "execute_result",
          "data": {
            "text/plain": [
              "[(278, 'Charlie Byrd'), (277, 'Candido'), (276, 'Buddy Rich')]"
            ],
            "text/html": [
              "<table>\n",
              "    <thead>\n",
              "        <tr>\n",
              "            <th>ArtistId</th>\n",
              "            <th>Name</th>\n",
              "        </tr>\n",
              "    </thead>\n",
              "    <tbody>\n",
              "        <tr>\n",
              "            <td>278</td>\n",
              "            <td>Charlie Byrd</td>\n",
              "        </tr>\n",
              "        <tr>\n",
              "            <td>277</td>\n",
              "            <td>Candido</td>\n",
              "        </tr>\n",
              "        <tr>\n",
              "            <td>276</td>\n",
              "            <td>Buddy Rich</td>\n",
              "        </tr>\n",
              "    </tbody>\n",
              "</table>"
            ]
          },
          "metadata": {},
          "execution_count": 32
        }
      ]
    },
    {
      "cell_type": "markdown",
      "source": [
        "##Show email, first name, and last name of all rock music listeners ordered alphabetically by email.\n",
        "\n",
        "(SELECT DISTINCT, JOIN, WHERE, ORDER BY)"
      ],
      "metadata": {
        "id": "qbHI4fM6gB28"
      }
    },
    {
      "cell_type": "code",
      "source": [
        "%%sql\n",
        "SELECT DISTINCT C.EMAIL,\n",
        "  C.FIRSTNAME,\n",
        "  C.LASTNAME\n",
        "FROM CUSTOMERS C\n",
        "JOIN INVOICES I ON C.CUSTOMERID = I.CUSTOMERID\n",
        "JOIN INVOICE_ITEMS IL ON IL.INVOICELINEID = I.INVOICEID\n",
        "JOIN TRACKS T ON IL.TRACKID = T.TRACKID\n",
        "JOIN GENRES G ON T.GENREID = G.GENREID\n",
        "WHERE G.NAME = 'Rock'\n",
        "ORDER BY 1;"
      ],
      "metadata": {
        "colab": {
          "base_uri": "https://localhost:8080/",
          "height": 1000
        },
        "id": "aG2jcJRhaIhD",
        "outputId": "969e2cf4-81c6-446a-871f-d5df245acb07"
      },
      "execution_count": 23,
      "outputs": [
        {
          "output_type": "stream",
          "name": "stdout",
          "text": [
            " * sqlite:////content/drive/MyDrive/db/chinook.db\n",
            "Done.\n"
          ]
        },
        {
          "output_type": "execute_result",
          "data": {
            "text/plain": [
              "[('aaronmitchell@yahoo.ca', 'Aaron', 'Mitchell'),\n",
              " ('alero@uol.com.br', 'Alexandre', 'Rocha'),\n",
              " ('astrid.gruber@apple.at', 'Astrid', 'Gruber'),\n",
              " ('bjorn.hansen@yahoo.no', 'Bjørn', 'Hansen'),\n",
              " ('camille.bernard@yahoo.fr', 'Camille', 'Bernard'),\n",
              " ('daan_peeters@apple.be', 'Daan', 'Peeters'),\n",
              " ('diego.gutierrez@yahoo.ar', 'Diego', 'Gutiérrez'),\n",
              " ('dmiller@comcast.com', 'Dan', 'Miller'),\n",
              " ('dominiquelefebvre@gmail.com', 'Dominique', 'Lefebvre'),\n",
              " ('edfrancis@yachoo.ca', 'Edward', 'Francis'),\n",
              " ('eduardo@woodstock.com.br', 'Eduardo', 'Martins'),\n",
              " ('ellie.sullivan@shaw.ca', 'Ellie', 'Sullivan'),\n",
              " ('emma_jones@hotmail.com', 'Emma', 'Jones'),\n",
              " ('enrique_munoz@yahoo.es', 'Enrique', 'Muñoz'),\n",
              " ('fernadaramos4@uol.com.br', 'Fernanda', 'Ramos'),\n",
              " ('fharris@google.com', 'Frank', 'Harris'),\n",
              " ('fralston@gmail.com', 'Frank', 'Ralston'),\n",
              " ('frantisekw@jetbrains.com', 'František', 'Wichterlová'),\n",
              " ('ftremblay@gmail.com', 'François', 'Tremblay'),\n",
              " ('fzimmermann@yahoo.de', 'Fynn', 'Zimmermann'),\n",
              " ('hannah.schneider@yahoo.de', 'Hannah', 'Schneider'),\n",
              " ('hholy@gmail.com', 'Helena', 'Holý'),\n",
              " ('hleacock@gmail.com', 'Heather', 'Leacock'),\n",
              " ('hughoreilly@apple.ie', 'Hugh', \"O'Reilly\"),\n",
              " ('isabelle_mercier@apple.fr', 'Isabelle', 'Mercier'),\n",
              " ('jacksmith@microsoft.com', 'Jack', 'Smith'),\n",
              " ('jenniferp@rogers.ca', 'Jennifer', 'Peterson'),\n",
              " ('jfernandes@yahoo.pt', 'João', 'Fernandes'),\n",
              " ('joakim.johansson@yahoo.se', 'Joakim', 'Johansson'),\n",
              " ('johavanderberg@yahoo.nl', 'Johannes', 'Van der Berg'),\n",
              " ('johngordon22@yahoo.com', 'John', 'Gordon'),\n",
              " ('jubarnett@gmail.com', 'Julia', 'Barnett'),\n",
              " ('kachase@hotmail.com', 'Kathy', 'Chase'),\n",
              " ('kara.nielsen@jubii.dk', 'Kara', 'Nielsen'),\n",
              " ('ladislav_kovacs@apple.hu', 'Ladislav', 'Kovács'),\n",
              " ('leonekohler@surfeu.de', 'Leonie', 'Köhler'),\n",
              " ('lucas.mancini@yahoo.it', 'Lucas', 'Mancini'),\n",
              " ('luisg@embraer.com.br', 'Luís', 'Gonçalves'),\n",
              " ('luisrojas@yahoo.cl', 'Luis', 'Rojas'),\n",
              " ('manoj.pareek@rediff.com', 'Manoj', 'Pareek'),\n",
              " ('marc.dubois@hotmail.com', 'Marc', 'Dubois'),\n",
              " ('mark.taylor@yahoo.au', 'Mark', 'Taylor'),\n",
              " ('marthasilk@gmail.com', 'Martha', 'Silk'),\n",
              " ('masampaio@sapo.pt', 'Madalena', 'Sampaio'),\n",
              " ('michelleb@aol.com', 'Michelle', 'Brooks'),\n",
              " ('mphilips12@shaw.ca', 'Mark', 'Philips'),\n",
              " ('nschroder@surfeu.de', 'Niklas', 'Schröder'),\n",
              " ('patrick.gray@aol.com', 'Patrick', 'Gray'),\n",
              " ('phil.hughes@gmail.com', 'Phil', 'Hughes'),\n",
              " ('puja_srivastava@yahoo.in', 'Puja', 'Srivastava'),\n",
              " ('ricunningham@hotmail.com', 'Richard', 'Cunningham'),\n",
              " ('robbrown@shaw.ca', 'Robert', 'Brown'),\n",
              " ('roberto.almeida@riotur.gov.br', 'Roberto', 'Almeida'),\n",
              " ('stanisław.wójcik@wp.pl', 'Stanisław', 'Wójcik'),\n",
              " ('steve.murray@yahoo.uk', 'Steve', 'Murray'),\n",
              " ('terhi.hamalainen@apple.fi', 'Terhi', 'Hämäläinen'),\n",
              " ('tgoyer@apple.com', 'Tim', 'Goyer'),\n",
              " ('vstevens@yahoo.com', 'Victor', 'Stevens'),\n",
              " ('wyatt.girard@yahoo.fr', 'Wyatt', 'Girard')]"
            ],
            "text/html": [
              "<table>\n",
              "    <thead>\n",
              "        <tr>\n",
              "            <th>Email</th>\n",
              "            <th>FirstName</th>\n",
              "            <th>LastName</th>\n",
              "        </tr>\n",
              "    </thead>\n",
              "    <tbody>\n",
              "        <tr>\n",
              "            <td>aaronmitchell@yahoo.ca</td>\n",
              "            <td>Aaron</td>\n",
              "            <td>Mitchell</td>\n",
              "        </tr>\n",
              "        <tr>\n",
              "            <td>alero@uol.com.br</td>\n",
              "            <td>Alexandre</td>\n",
              "            <td>Rocha</td>\n",
              "        </tr>\n",
              "        <tr>\n",
              "            <td>astrid.gruber@apple.at</td>\n",
              "            <td>Astrid</td>\n",
              "            <td>Gruber</td>\n",
              "        </tr>\n",
              "        <tr>\n",
              "            <td>bjorn.hansen@yahoo.no</td>\n",
              "            <td>Bjørn</td>\n",
              "            <td>Hansen</td>\n",
              "        </tr>\n",
              "        <tr>\n",
              "            <td>camille.bernard@yahoo.fr</td>\n",
              "            <td>Camille</td>\n",
              "            <td>Bernard</td>\n",
              "        </tr>\n",
              "        <tr>\n",
              "            <td>daan_peeters@apple.be</td>\n",
              "            <td>Daan</td>\n",
              "            <td>Peeters</td>\n",
              "        </tr>\n",
              "        <tr>\n",
              "            <td>diego.gutierrez@yahoo.ar</td>\n",
              "            <td>Diego</td>\n",
              "            <td>Gutiérrez</td>\n",
              "        </tr>\n",
              "        <tr>\n",
              "            <td>dmiller@comcast.com</td>\n",
              "            <td>Dan</td>\n",
              "            <td>Miller</td>\n",
              "        </tr>\n",
              "        <tr>\n",
              "            <td>dominiquelefebvre@gmail.com</td>\n",
              "            <td>Dominique</td>\n",
              "            <td>Lefebvre</td>\n",
              "        </tr>\n",
              "        <tr>\n",
              "            <td>edfrancis@yachoo.ca</td>\n",
              "            <td>Edward</td>\n",
              "            <td>Francis</td>\n",
              "        </tr>\n",
              "        <tr>\n",
              "            <td>eduardo@woodstock.com.br</td>\n",
              "            <td>Eduardo</td>\n",
              "            <td>Martins</td>\n",
              "        </tr>\n",
              "        <tr>\n",
              "            <td>ellie.sullivan@shaw.ca</td>\n",
              "            <td>Ellie</td>\n",
              "            <td>Sullivan</td>\n",
              "        </tr>\n",
              "        <tr>\n",
              "            <td>emma_jones@hotmail.com</td>\n",
              "            <td>Emma</td>\n",
              "            <td>Jones</td>\n",
              "        </tr>\n",
              "        <tr>\n",
              "            <td>enrique_munoz@yahoo.es</td>\n",
              "            <td>Enrique</td>\n",
              "            <td>Muñoz</td>\n",
              "        </tr>\n",
              "        <tr>\n",
              "            <td>fernadaramos4@uol.com.br</td>\n",
              "            <td>Fernanda</td>\n",
              "            <td>Ramos</td>\n",
              "        </tr>\n",
              "        <tr>\n",
              "            <td>fharris@google.com</td>\n",
              "            <td>Frank</td>\n",
              "            <td>Harris</td>\n",
              "        </tr>\n",
              "        <tr>\n",
              "            <td>fralston@gmail.com</td>\n",
              "            <td>Frank</td>\n",
              "            <td>Ralston</td>\n",
              "        </tr>\n",
              "        <tr>\n",
              "            <td>frantisekw@jetbrains.com</td>\n",
              "            <td>František</td>\n",
              "            <td>Wichterlová</td>\n",
              "        </tr>\n",
              "        <tr>\n",
              "            <td>ftremblay@gmail.com</td>\n",
              "            <td>François</td>\n",
              "            <td>Tremblay</td>\n",
              "        </tr>\n",
              "        <tr>\n",
              "            <td>fzimmermann@yahoo.de</td>\n",
              "            <td>Fynn</td>\n",
              "            <td>Zimmermann</td>\n",
              "        </tr>\n",
              "        <tr>\n",
              "            <td>hannah.schneider@yahoo.de</td>\n",
              "            <td>Hannah</td>\n",
              "            <td>Schneider</td>\n",
              "        </tr>\n",
              "        <tr>\n",
              "            <td>hholy@gmail.com</td>\n",
              "            <td>Helena</td>\n",
              "            <td>Holý</td>\n",
              "        </tr>\n",
              "        <tr>\n",
              "            <td>hleacock@gmail.com</td>\n",
              "            <td>Heather</td>\n",
              "            <td>Leacock</td>\n",
              "        </tr>\n",
              "        <tr>\n",
              "            <td>hughoreilly@apple.ie</td>\n",
              "            <td>Hugh</td>\n",
              "            <td>O&#x27;Reilly</td>\n",
              "        </tr>\n",
              "        <tr>\n",
              "            <td>isabelle_mercier@apple.fr</td>\n",
              "            <td>Isabelle</td>\n",
              "            <td>Mercier</td>\n",
              "        </tr>\n",
              "        <tr>\n",
              "            <td>jacksmith@microsoft.com</td>\n",
              "            <td>Jack</td>\n",
              "            <td>Smith</td>\n",
              "        </tr>\n",
              "        <tr>\n",
              "            <td>jenniferp@rogers.ca</td>\n",
              "            <td>Jennifer</td>\n",
              "            <td>Peterson</td>\n",
              "        </tr>\n",
              "        <tr>\n",
              "            <td>jfernandes@yahoo.pt</td>\n",
              "            <td>João</td>\n",
              "            <td>Fernandes</td>\n",
              "        </tr>\n",
              "        <tr>\n",
              "            <td>joakim.johansson@yahoo.se</td>\n",
              "            <td>Joakim</td>\n",
              "            <td>Johansson</td>\n",
              "        </tr>\n",
              "        <tr>\n",
              "            <td>johavanderberg@yahoo.nl</td>\n",
              "            <td>Johannes</td>\n",
              "            <td>Van der Berg</td>\n",
              "        </tr>\n",
              "        <tr>\n",
              "            <td>johngordon22@yahoo.com</td>\n",
              "            <td>John</td>\n",
              "            <td>Gordon</td>\n",
              "        </tr>\n",
              "        <tr>\n",
              "            <td>jubarnett@gmail.com</td>\n",
              "            <td>Julia</td>\n",
              "            <td>Barnett</td>\n",
              "        </tr>\n",
              "        <tr>\n",
              "            <td>kachase@hotmail.com</td>\n",
              "            <td>Kathy</td>\n",
              "            <td>Chase</td>\n",
              "        </tr>\n",
              "        <tr>\n",
              "            <td>kara.nielsen@jubii.dk</td>\n",
              "            <td>Kara</td>\n",
              "            <td>Nielsen</td>\n",
              "        </tr>\n",
              "        <tr>\n",
              "            <td>ladislav_kovacs@apple.hu</td>\n",
              "            <td>Ladislav</td>\n",
              "            <td>Kovács</td>\n",
              "        </tr>\n",
              "        <tr>\n",
              "            <td>leonekohler@surfeu.de</td>\n",
              "            <td>Leonie</td>\n",
              "            <td>Köhler</td>\n",
              "        </tr>\n",
              "        <tr>\n",
              "            <td>lucas.mancini@yahoo.it</td>\n",
              "            <td>Lucas</td>\n",
              "            <td>Mancini</td>\n",
              "        </tr>\n",
              "        <tr>\n",
              "            <td>luisg@embraer.com.br</td>\n",
              "            <td>Luís</td>\n",
              "            <td>Gonçalves</td>\n",
              "        </tr>\n",
              "        <tr>\n",
              "            <td>luisrojas@yahoo.cl</td>\n",
              "            <td>Luis</td>\n",
              "            <td>Rojas</td>\n",
              "        </tr>\n",
              "        <tr>\n",
              "            <td>manoj.pareek@rediff.com</td>\n",
              "            <td>Manoj</td>\n",
              "            <td>Pareek</td>\n",
              "        </tr>\n",
              "        <tr>\n",
              "            <td>marc.dubois@hotmail.com</td>\n",
              "            <td>Marc</td>\n",
              "            <td>Dubois</td>\n",
              "        </tr>\n",
              "        <tr>\n",
              "            <td>mark.taylor@yahoo.au</td>\n",
              "            <td>Mark</td>\n",
              "            <td>Taylor</td>\n",
              "        </tr>\n",
              "        <tr>\n",
              "            <td>marthasilk@gmail.com</td>\n",
              "            <td>Martha</td>\n",
              "            <td>Silk</td>\n",
              "        </tr>\n",
              "        <tr>\n",
              "            <td>masampaio@sapo.pt</td>\n",
              "            <td>Madalena</td>\n",
              "            <td>Sampaio</td>\n",
              "        </tr>\n",
              "        <tr>\n",
              "            <td>michelleb@aol.com</td>\n",
              "            <td>Michelle</td>\n",
              "            <td>Brooks</td>\n",
              "        </tr>\n",
              "        <tr>\n",
              "            <td>mphilips12@shaw.ca</td>\n",
              "            <td>Mark</td>\n",
              "            <td>Philips</td>\n",
              "        </tr>\n",
              "        <tr>\n",
              "            <td>nschroder@surfeu.de</td>\n",
              "            <td>Niklas</td>\n",
              "            <td>Schröder</td>\n",
              "        </tr>\n",
              "        <tr>\n",
              "            <td>patrick.gray@aol.com</td>\n",
              "            <td>Patrick</td>\n",
              "            <td>Gray</td>\n",
              "        </tr>\n",
              "        <tr>\n",
              "            <td>phil.hughes@gmail.com</td>\n",
              "            <td>Phil</td>\n",
              "            <td>Hughes</td>\n",
              "        </tr>\n",
              "        <tr>\n",
              "            <td>puja_srivastava@yahoo.in</td>\n",
              "            <td>Puja</td>\n",
              "            <td>Srivastava</td>\n",
              "        </tr>\n",
              "        <tr>\n",
              "            <td>ricunningham@hotmail.com</td>\n",
              "            <td>Richard</td>\n",
              "            <td>Cunningham</td>\n",
              "        </tr>\n",
              "        <tr>\n",
              "            <td>robbrown@shaw.ca</td>\n",
              "            <td>Robert</td>\n",
              "            <td>Brown</td>\n",
              "        </tr>\n",
              "        <tr>\n",
              "            <td>roberto.almeida@riotur.gov.br</td>\n",
              "            <td>Roberto</td>\n",
              "            <td>Almeida</td>\n",
              "        </tr>\n",
              "        <tr>\n",
              "            <td>stanisław.wójcik@wp.pl</td>\n",
              "            <td>Stanisław</td>\n",
              "            <td>Wójcik</td>\n",
              "        </tr>\n",
              "        <tr>\n",
              "            <td>steve.murray@yahoo.uk</td>\n",
              "            <td>Steve</td>\n",
              "            <td>Murray</td>\n",
              "        </tr>\n",
              "        <tr>\n",
              "            <td>terhi.hamalainen@apple.fi</td>\n",
              "            <td>Terhi</td>\n",
              "            <td>Hämäläinen</td>\n",
              "        </tr>\n",
              "        <tr>\n",
              "            <td>tgoyer@apple.com</td>\n",
              "            <td>Tim</td>\n",
              "            <td>Goyer</td>\n",
              "        </tr>\n",
              "        <tr>\n",
              "            <td>vstevens@yahoo.com</td>\n",
              "            <td>Victor</td>\n",
              "            <td>Stevens</td>\n",
              "        </tr>\n",
              "        <tr>\n",
              "            <td>wyatt.girard@yahoo.fr</td>\n",
              "            <td>Wyatt</td>\n",
              "            <td>Girard</td>\n",
              "        </tr>\n",
              "    </tbody>\n",
              "</table>"
            ]
          },
          "metadata": {},
          "execution_count": 23
        }
      ]
    },
    {
      "cell_type": "markdown",
      "source": [
        "##Find albums that have the number of tracks between 18 and 20\n",
        "\n",
        "(COUNT, GROUP BY, HAVING, BETWEEN, AND, ORDER BY)"
      ],
      "metadata": {
        "id": "3gxRFShgjW72"
      }
    },
    {
      "cell_type": "code",
      "source": [
        "%%sql\n",
        "SELECT ALBUMID, COUNT(TRACKID)\n",
        "FROM TRACKS\n",
        "GROUP BY ALBUMID\n",
        "HAVING COUNT(ALBUMID) BETWEEN 18 AND 20\n",
        "ORDER BY ALBUMID;"
      ],
      "metadata": {
        "colab": {
          "base_uri": "https://localhost:8080/",
          "height": 417
        },
        "id": "VcQAr52IjYs3",
        "outputId": "419ef044-41cf-46f5-a1cf-ad09b9f2739e"
      },
      "execution_count": 26,
      "outputs": [
        {
          "output_type": "stream",
          "name": "stdout",
          "text": [
            " * sqlite:////content/drive/MyDrive/db/chinook.db\n",
            "Done.\n"
          ]
        },
        {
          "output_type": "execute_result",
          "data": {
            "text/plain": [
              "[(21, 18),\n",
              " (37, 20),\n",
              " (54, 20),\n",
              " (55, 20),\n",
              " (72, 18),\n",
              " (102, 18),\n",
              " (115, 20),\n",
              " (145, 18),\n",
              " (146, 18),\n",
              " (202, 18),\n",
              " (211, 18),\n",
              " (213, 18),\n",
              " (221, 20),\n",
              " (227, 19),\n",
              " (248, 19),\n",
              " (258, 19)]"
            ],
            "text/html": [
              "<table>\n",
              "    <thead>\n",
              "        <tr>\n",
              "            <th>AlbumId</th>\n",
              "            <th>COUNT(TRACKID)</th>\n",
              "        </tr>\n",
              "    </thead>\n",
              "    <tbody>\n",
              "        <tr>\n",
              "            <td>21</td>\n",
              "            <td>18</td>\n",
              "        </tr>\n",
              "        <tr>\n",
              "            <td>37</td>\n",
              "            <td>20</td>\n",
              "        </tr>\n",
              "        <tr>\n",
              "            <td>54</td>\n",
              "            <td>20</td>\n",
              "        </tr>\n",
              "        <tr>\n",
              "            <td>55</td>\n",
              "            <td>20</td>\n",
              "        </tr>\n",
              "        <tr>\n",
              "            <td>72</td>\n",
              "            <td>18</td>\n",
              "        </tr>\n",
              "        <tr>\n",
              "            <td>102</td>\n",
              "            <td>18</td>\n",
              "        </tr>\n",
              "        <tr>\n",
              "            <td>115</td>\n",
              "            <td>20</td>\n",
              "        </tr>\n",
              "        <tr>\n",
              "            <td>145</td>\n",
              "            <td>18</td>\n",
              "        </tr>\n",
              "        <tr>\n",
              "            <td>146</td>\n",
              "            <td>18</td>\n",
              "        </tr>\n",
              "        <tr>\n",
              "            <td>202</td>\n",
              "            <td>18</td>\n",
              "        </tr>\n",
              "        <tr>\n",
              "            <td>211</td>\n",
              "            <td>18</td>\n",
              "        </tr>\n",
              "        <tr>\n",
              "            <td>213</td>\n",
              "            <td>18</td>\n",
              "        </tr>\n",
              "        <tr>\n",
              "            <td>221</td>\n",
              "            <td>20</td>\n",
              "        </tr>\n",
              "        <tr>\n",
              "            <td>227</td>\n",
              "            <td>19</td>\n",
              "        </tr>\n",
              "        <tr>\n",
              "            <td>248</td>\n",
              "            <td>19</td>\n",
              "        </tr>\n",
              "        <tr>\n",
              "            <td>258</td>\n",
              "            <td>19</td>\n",
              "        </tr>\n",
              "    </tbody>\n",
              "</table>"
            ]
          },
          "metadata": {},
          "execution_count": 26
        }
      ]
    },
    {
      "cell_type": "markdown",
      "source": [
        "##Which artist has earned the most?\n",
        "\n",
        "(ALIASES, SUBQUERY, GROUP BY, ORDER BY, LIMIT)"
      ],
      "metadata": {
        "id": "TST56dY8iCp1"
      }
    },
    {
      "cell_type": "code",
      "source": [
        "%%sql\n",
        "SELECT  Y.NAME AS ARTIST_NAME,\n",
        "        SUM(TOTAL) AS GRAND_TOTAL\n",
        "FROM\n",
        "  (SELECT\tX.NAME,\n",
        "          X.UNITPRICE * X.QUANTITY AS TOTAL\n",
        "  FROM\n",
        "    (SELECT AR.NAME,\n",
        "            I.UNITPRICE,\n",
        "            I.QUANTITY\n",
        "    FROM ARTISTS AR\n",
        "    JOIN ALBUMS AL ON AR.ARTISTID = AL.ARTISTID\n",
        "    JOIN TRACKS T ON AL.ALBUMID = T.ALBUMID\n",
        "    JOIN INVOICE_ITEMS I ON T.TRACKID = I.TRACKID\n",
        "    ORDER BY 1 DESC) AS X) AS Y\n",
        "GROUP BY 1\n",
        "ORDER BY 2 DESC\n",
        "LIMIT 1"
      ],
      "metadata": {
        "colab": {
          "base_uri": "https://localhost:8080/",
          "height": 96
        },
        "id": "JjMBWKsgbRqm",
        "outputId": "2e747f64-8799-4f68-add4-2b2ad095d90c"
      },
      "execution_count": 25,
      "outputs": [
        {
          "output_type": "stream",
          "name": "stdout",
          "text": [
            " * sqlite:////content/drive/MyDrive/db/chinook.db\n",
            "Done.\n"
          ]
        },
        {
          "output_type": "execute_result",
          "data": {
            "text/plain": [
              "[('Iron Maiden', 138.5999999999998)]"
            ],
            "text/html": [
              "<table>\n",
              "    <thead>\n",
              "        <tr>\n",
              "            <th>ARTIST_NAME</th>\n",
              "            <th>GRAND_TOTAL</th>\n",
              "        </tr>\n",
              "    </thead>\n",
              "    <tbody>\n",
              "        <tr>\n",
              "            <td>Iron Maiden</td>\n",
              "            <td>138.5999999999998</td>\n",
              "        </tr>\n",
              "    </tbody>\n",
              "</table>"
            ]
          },
          "metadata": {},
          "execution_count": 25
        }
      ]
    },
    {
      "cell_type": "markdown",
      "source": [
        "## Creating view"
      ],
      "metadata": {
        "id": "sdv3dQmMnQvU"
      }
    },
    {
      "cell_type": "code",
      "source": [
        "%%sql\n",
        "CREATE VIEW IF NOT EXISTS V_TRACKS\n",
        "AS\n",
        "SELECT\n",
        "\tTRACKID,\n",
        "\tT.NAME,\n",
        "\tA.TITLE AS ALBUMS,\n",
        "\tM.NAME AS MEDIA,\n",
        "\tG.NAME AS GENRE\n",
        "FROM\n",
        "\tTRACKS T\n",
        "INNER JOIN ALBUMS A ON A.ALBUMID = T.ALBUMID\n",
        "INNER JOIN MEDIA_TYPES M ON M.MEDIATYPEID = T.MEDIATYPEID\n",
        "INNER JOIN GENRES G ON G.GENREID = T.GENREID;\n",
        "\n",
        "SELECT * FROM V_TRACKS LIMIT 10;"
      ],
      "metadata": {
        "colab": {
          "base_uri": "https://localhost:8080/",
          "height": 306
        },
        "id": "OyGEOAs-ln03",
        "outputId": "471c3cee-2e7a-4618-a8b1-1b483812d81f"
      },
      "execution_count": 30,
      "outputs": [
        {
          "output_type": "stream",
          "name": "stdout",
          "text": [
            " * sqlite:////content/drive/MyDrive/db/chinook.db\n",
            "Done.\n",
            "Done.\n"
          ]
        },
        {
          "output_type": "execute_result",
          "data": {
            "text/plain": [
              "[(1, 'For Those About To Rock (We Salute You)', 'For Those About To Rock We Salute You', 'MPEG audio file', 'Rock'),\n",
              " (2, 'Balls to the Wall', 'Balls to the Wall', 'Protected AAC audio file', 'Rock'),\n",
              " (3, 'Fast As a Shark', 'Restless and Wild', 'Protected AAC audio file', 'Rock'),\n",
              " (4, 'Restless and Wild', 'Restless and Wild', 'Protected AAC audio file', 'Rock'),\n",
              " (5, 'Princess of the Dawn', 'Restless and Wild', 'Protected AAC audio file', 'Rock'),\n",
              " (6, 'Put The Finger On You', 'For Those About To Rock We Salute You', 'MPEG audio file', 'Rock'),\n",
              " (7, \"Let's Get It Up\", 'For Those About To Rock We Salute You', 'MPEG audio file', 'Rock'),\n",
              " (8, 'Inject The Venom', 'For Those About To Rock We Salute You', 'MPEG audio file', 'Rock'),\n",
              " (9, 'Snowballed', 'For Those About To Rock We Salute You', 'MPEG audio file', 'Rock'),\n",
              " (10, 'Evil Walks', 'For Those About To Rock We Salute You', 'MPEG audio file', 'Rock')]"
            ],
            "text/html": [
              "<table>\n",
              "    <thead>\n",
              "        <tr>\n",
              "            <th>TrackId</th>\n",
              "            <th>Name</th>\n",
              "            <th>ALBUMS</th>\n",
              "            <th>MEDIA</th>\n",
              "            <th>GENRE</th>\n",
              "        </tr>\n",
              "    </thead>\n",
              "    <tbody>\n",
              "        <tr>\n",
              "            <td>1</td>\n",
              "            <td>For Those About To Rock (We Salute You)</td>\n",
              "            <td>For Those About To Rock We Salute You</td>\n",
              "            <td>MPEG audio file</td>\n",
              "            <td>Rock</td>\n",
              "        </tr>\n",
              "        <tr>\n",
              "            <td>2</td>\n",
              "            <td>Balls to the Wall</td>\n",
              "            <td>Balls to the Wall</td>\n",
              "            <td>Protected AAC audio file</td>\n",
              "            <td>Rock</td>\n",
              "        </tr>\n",
              "        <tr>\n",
              "            <td>3</td>\n",
              "            <td>Fast As a Shark</td>\n",
              "            <td>Restless and Wild</td>\n",
              "            <td>Protected AAC audio file</td>\n",
              "            <td>Rock</td>\n",
              "        </tr>\n",
              "        <tr>\n",
              "            <td>4</td>\n",
              "            <td>Restless and Wild</td>\n",
              "            <td>Restless and Wild</td>\n",
              "            <td>Protected AAC audio file</td>\n",
              "            <td>Rock</td>\n",
              "        </tr>\n",
              "        <tr>\n",
              "            <td>5</td>\n",
              "            <td>Princess of the Dawn</td>\n",
              "            <td>Restless and Wild</td>\n",
              "            <td>Protected AAC audio file</td>\n",
              "            <td>Rock</td>\n",
              "        </tr>\n",
              "        <tr>\n",
              "            <td>6</td>\n",
              "            <td>Put The Finger On You</td>\n",
              "            <td>For Those About To Rock We Salute You</td>\n",
              "            <td>MPEG audio file</td>\n",
              "            <td>Rock</td>\n",
              "        </tr>\n",
              "        <tr>\n",
              "            <td>7</td>\n",
              "            <td>Let&#x27;s Get It Up</td>\n",
              "            <td>For Those About To Rock We Salute You</td>\n",
              "            <td>MPEG audio file</td>\n",
              "            <td>Rock</td>\n",
              "        </tr>\n",
              "        <tr>\n",
              "            <td>8</td>\n",
              "            <td>Inject The Venom</td>\n",
              "            <td>For Those About To Rock We Salute You</td>\n",
              "            <td>MPEG audio file</td>\n",
              "            <td>Rock</td>\n",
              "        </tr>\n",
              "        <tr>\n",
              "            <td>9</td>\n",
              "            <td>Snowballed</td>\n",
              "            <td>For Those About To Rock We Salute You</td>\n",
              "            <td>MPEG audio file</td>\n",
              "            <td>Rock</td>\n",
              "        </tr>\n",
              "        <tr>\n",
              "            <td>10</td>\n",
              "            <td>Evil Walks</td>\n",
              "            <td>For Those About To Rock We Salute You</td>\n",
              "            <td>MPEG audio file</td>\n",
              "            <td>Rock</td>\n",
              "        </tr>\n",
              "    </tbody>\n",
              "</table>"
            ]
          },
          "metadata": {},
          "execution_count": 30
        }
      ]
    }
  ]
}